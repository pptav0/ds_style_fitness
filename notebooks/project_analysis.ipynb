{
 "cells": [
  {
   "cell_type": "markdown",
   "id": "1c7465bf-19dd-4ed7-93ee-a4e3e67484a5",
   "metadata": {},
   "source": [
    "# SETUP"
   ]
  },
  {
   "cell_type": "code",
   "execution_count": 1,
   "id": "be086ee1-7367-4c0b-b7ae-65acd5f5f1c4",
   "metadata": {},
   "outputs": [
    {
     "name": "stdout",
     "output_type": "stream",
     "text": [
      "[PhysicalDevice(name='/physical_device:CPU:0', device_type='CPU'), PhysicalDevice(name='/physical_device:GPU:0', device_type='GPU')]\n"
     ]
    }
   ],
   "source": [
    "# ENV\n",
    "import os\n",
    "os.environ['KAGGLE_CONFIG_DIR'] = \"/Users/pepetavo/.kaggle\"\n",
    "\n",
    "# tensorflow\n",
    "import tensorflow as tf\n",
    "print(tf.config.list_physical_devices())\n",
    "\n",
    "# base libraries\n",
    "# import numpy as np\n",
    "import pandas as pd\n",
    "import datetime as datetime\n",
    "\n",
    "# Plot\n",
    "import seaborn as sns\n",
    "import matplotlib.pyplot as plt"
   ]
  },
  {
   "cell_type": "code",
   "execution_count": 2,
   "id": "f82b4e19-56fb-4023-b546-54d113912cbe",
   "metadata": {},
   "outputs": [],
   "source": [
    "# scilearn\n"
   ]
  },
  {
   "cell_type": "markdown",
   "id": "c4d0cb60-d862-4291-945e-db0f7060bac3",
   "metadata": {},
   "source": [
    "# Load data"
   ]
  },
  {
   "cell_type": "code",
   "execution_count": 3,
   "id": "b13516e7-5f0d-4747-a3ae-fc2dcf1235b4",
   "metadata": {},
   "outputs": [
    {
     "name": "stdout",
     "output_type": "stream",
     "text": [
      "zsh:1: command not found: kaggle\n"
     ]
    }
   ],
   "source": [
    "# Dowload Dataset from Kaggle\n",
    "file_path = \"fitness_dataset.csv\"\n",
    "!kaggle datasets download -p ../data muhammedderric/fitness-classification-dataset-synthetic -f \"$file_path\""
   ]
  },
  {
   "cell_type": "code",
   "execution_count": 4,
   "id": "f1c09cdc-5dcc-48e9-930c-1b385caf0d80",
   "metadata": {},
   "outputs": [
    {
     "data": {
      "text/html": [
       "<div>\n",
       "<style scoped>\n",
       "    .dataframe tbody tr th:only-of-type {\n",
       "        vertical-align: middle;\n",
       "    }\n",
       "\n",
       "    .dataframe tbody tr th {\n",
       "        vertical-align: top;\n",
       "    }\n",
       "\n",
       "    .dataframe thead th {\n",
       "        text-align: right;\n",
       "    }\n",
       "</style>\n",
       "<table border=\"1\" class=\"dataframe\">\n",
       "  <thead>\n",
       "    <tr style=\"text-align: right;\">\n",
       "      <th></th>\n",
       "      <th>age</th>\n",
       "      <th>height_cm</th>\n",
       "      <th>weight_kg</th>\n",
       "      <th>heart_rate</th>\n",
       "      <th>blood_pressure</th>\n",
       "      <th>sleep_hours</th>\n",
       "      <th>nutrition_quality</th>\n",
       "      <th>activity_index</th>\n",
       "      <th>smokes</th>\n",
       "      <th>gender</th>\n",
       "      <th>is_fit</th>\n",
       "    </tr>\n",
       "  </thead>\n",
       "  <tbody>\n",
       "    <tr>\n",
       "      <th>0</th>\n",
       "      <td>56</td>\n",
       "      <td>152</td>\n",
       "      <td>65</td>\n",
       "      <td>69.6</td>\n",
       "      <td>117.0</td>\n",
       "      <td>NaN</td>\n",
       "      <td>2.37</td>\n",
       "      <td>3.97</td>\n",
       "      <td>no</td>\n",
       "      <td>F</td>\n",
       "      <td>1</td>\n",
       "    </tr>\n",
       "    <tr>\n",
       "      <th>1</th>\n",
       "      <td>69</td>\n",
       "      <td>186</td>\n",
       "      <td>95</td>\n",
       "      <td>60.8</td>\n",
       "      <td>114.8</td>\n",
       "      <td>7.5</td>\n",
       "      <td>8.77</td>\n",
       "      <td>3.19</td>\n",
       "      <td>0</td>\n",
       "      <td>F</td>\n",
       "      <td>1</td>\n",
       "    </tr>\n",
       "    <tr>\n",
       "      <th>2</th>\n",
       "      <td>46</td>\n",
       "      <td>192</td>\n",
       "      <td>103</td>\n",
       "      <td>61.4</td>\n",
       "      <td>116.4</td>\n",
       "      <td>NaN</td>\n",
       "      <td>8.20</td>\n",
       "      <td>2.03</td>\n",
       "      <td>0</td>\n",
       "      <td>F</td>\n",
       "      <td>0</td>\n",
       "    </tr>\n",
       "    <tr>\n",
       "      <th>3</th>\n",
       "      <td>32</td>\n",
       "      <td>189</td>\n",
       "      <td>83</td>\n",
       "      <td>60.2</td>\n",
       "      <td>130.1</td>\n",
       "      <td>7.0</td>\n",
       "      <td>6.18</td>\n",
       "      <td>3.68</td>\n",
       "      <td>0</td>\n",
       "      <td>M</td>\n",
       "      <td>1</td>\n",
       "    </tr>\n",
       "    <tr>\n",
       "      <th>4</th>\n",
       "      <td>60</td>\n",
       "      <td>175</td>\n",
       "      <td>99</td>\n",
       "      <td>58.1</td>\n",
       "      <td>115.8</td>\n",
       "      <td>8.0</td>\n",
       "      <td>9.95</td>\n",
       "      <td>4.83</td>\n",
       "      <td>yes</td>\n",
       "      <td>F</td>\n",
       "      <td>1</td>\n",
       "    </tr>\n",
       "  </tbody>\n",
       "</table>\n",
       "</div>"
      ],
      "text/plain": [
       "   age  height_cm  weight_kg  heart_rate  blood_pressure  sleep_hours  \\\n",
       "0   56        152         65        69.6           117.0          NaN   \n",
       "1   69        186         95        60.8           114.8          7.5   \n",
       "2   46        192        103        61.4           116.4          NaN   \n",
       "3   32        189         83        60.2           130.1          7.0   \n",
       "4   60        175         99        58.1           115.8          8.0   \n",
       "\n",
       "   nutrition_quality  activity_index smokes gender  is_fit  \n",
       "0               2.37            3.97     no      F       1  \n",
       "1               8.77            3.19      0      F       1  \n",
       "2               8.20            2.03      0      F       0  \n",
       "3               6.18            3.68      0      M       1  \n",
       "4               9.95            4.83    yes      F       1  "
      ]
     },
     "execution_count": 4,
     "metadata": {},
     "output_type": "execute_result"
    }
   ],
   "source": [
    "# Load dataset\n",
    "data = pd.read_csv(f\"../data/{file_path}\")\n",
    "data.head()"
   ]
  },
  {
   "cell_type": "code",
   "execution_count": 5,
   "id": "d04b0e2c-e80e-4158-8fa9-1117f1298b1f",
   "metadata": {},
   "outputs": [
    {
     "name": "stdout",
     "output_type": "stream",
     "text": [
      "<class 'pandas.core.frame.DataFrame'>\n",
      "RangeIndex: 2000 entries, 0 to 1999\n",
      "Data columns (total 11 columns):\n",
      " #   Column             Non-Null Count  Dtype  \n",
      "---  ------             --------------  -----  \n",
      " 0   age                2000 non-null   int64  \n",
      " 1   height_cm          2000 non-null   int64  \n",
      " 2   weight_kg          2000 non-null   int64  \n",
      " 3   heart_rate         2000 non-null   float64\n",
      " 4   blood_pressure     2000 non-null   float64\n",
      " 5   sleep_hours        1840 non-null   float64\n",
      " 6   nutrition_quality  2000 non-null   float64\n",
      " 7   activity_index     2000 non-null   float64\n",
      " 8   smokes             2000 non-null   object \n",
      " 9   gender             2000 non-null   object \n",
      " 10  is_fit             2000 non-null   int64  \n",
      "dtypes: float64(5), int64(4), object(2)\n",
      "memory usage: 172.0+ KB\n"
     ]
    }
   ],
   "source": [
    "data.info()"
   ]
  },
  {
   "cell_type": "code",
   "execution_count": 23,
   "id": "e55c4fc8-ec77-45c3-9c51-a8f28747f4b9",
   "metadata": {},
   "outputs": [
    {
     "name": "stdout",
     "output_type": "stream",
     "text": [
      "smokes: ['no' '0' 'yes' '1']\n",
      "gender: ['F' 'M']\n"
     ]
    }
   ],
   "source": [
    "for col in data.columns:\n",
    "    if data[col].dtype == 'object':\n",
    "        print(f\"{col}: {data[col].unique()}\")"
   ]
  },
  {
   "cell_type": "code",
   "execution_count": null,
   "id": "1220f457-0c18-457a-9068-b78e4cb8d8b9",
   "metadata": {},
   "outputs": [],
   "source": []
  }
 ],
 "metadata": {
  "kernelspec": {
   "display_name": "Python Kaggle (env)",
   "language": "python",
   "name": "venvkaggle"
  },
  "language_info": {
   "codemirror_mode": {
    "name": "ipython",
    "version": 3
   },
   "file_extension": ".py",
   "mimetype": "text/x-python",
   "name": "python",
   "nbconvert_exporter": "python",
   "pygments_lexer": "ipython3",
   "version": "3.12.8"
  }
 },
 "nbformat": 4,
 "nbformat_minor": 5
}
